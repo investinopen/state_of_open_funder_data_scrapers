{
 "cells": [
  {
   "cell_type": "markdown",
   "metadata": {},
   "source": [
    "# Gates Foundation\n"
   ]
  },
  {
   "cell_type": "code",
   "execution_count": 1,
   "metadata": {},
   "outputs": [],
   "source": [
    "import polars as pl\n",
    "import pandas as pd\n",
    "from oic_scrape.items import AwardItem\n",
    "from datetime import datetime\n",
    "import requests\n",
    "from bs4 import BeautifulSoup\n",
    "from urllib.parse import urljoin\n",
    "from io import StringIO\n",
    "from attrs import asdict\n",
    "\n",
    "FUNDER_ORG_NAME = \"Bill & Melinda Gates Foundation\"\n",
    "FUNDER_ORG_ROR_ID = \"https://ror.org/0456r8d26\""
   ]
  },
  {
   "cell_type": "code",
   "execution_count": 2,
   "metadata": {
    "tags": [
     "parameters"
    ]
   },
   "outputs": [],
   "source": [
    "OUTPUT_LOCATION = \"data/gatesfoundation.org.jsonl\""
   ]
  },
  {
   "cell_type": "code",
   "execution_count": 3,
   "metadata": {},
   "outputs": [],
   "source": [
    "session = requests.Session()\n",
    "static_grants_csv_url = \"https://www.gatesfoundation.org/-/media/files/bmgf-grants.csv\"\n",
    "csv = session.get(static_grants_csv_url)\n",
    "crawled_at = datetime.utcnow()\n",
    "csv.raise_for_status()"
   ]
  },
  {
   "cell_type": "code",
   "execution_count": 4,
   "metadata": {},
   "outputs": [],
   "source": [
    "df = pd.read_csv(StringIO(csv.text), skiprows=1).dropna(subset=\"GRANT ID\")"
   ]
  },
  {
   "cell_type": "code",
   "execution_count": 5,
   "metadata": {},
   "outputs": [],
   "source": [
    "awards = []\n",
    "for ix, row in df.iterrows():\n",
    "    location = \"\"\n",
    "\n",
    "    if row[\"GRANTEE CITY\"]:\n",
    "        location += str(row[\"GRANTEE CITY\"])\n",
    "    if row[\"GRANTEE STATE\"]:\n",
    "        if len(location) > 0:\n",
    "            location += \", \"\n",
    "        location += str(row[\"GRANTEE STATE\"])\n",
    "    if row[\"GRANTEE COUNTRY\"]:\n",
    "        if len(location) > 0:\n",
    "            location += \", \"\n",
    "        location += str(row[\"GRANTEE COUNTRY\"])\n",
    "\n",
    "    year, month = row[\"DATE COMMITTED\"].split(\"-\")\n",
    "    source_url = f\"https://www.gatesfoundation.org/about/committed-grants/{year}/{month}/{row['GRANT ID']}\"\n",
    "\n",
    "    award = AwardItem(\n",
    "        grant_id=f\"gatesfoundation.org::{row['GRANT ID']}\",\n",
    "        funder_org_name=FUNDER_ORG_NAME,\n",
    "        funder_org_ror_id=FUNDER_ORG_ROR_ID,\n",
    "        recipient_org_name=str(row[\"GRANTEE\"]),\n",
    "        recipient_org_location=location,\n",
    "        grant_year=int(year),\n",
    "        grant_duration=f\"{row['DURATION (MONTHS)']} months\",\n",
    "        award_amount=float(row[\"AMOUNT COMMITTED\"]),\n",
    "        award_currency=\"USD\",\n",
    "        award_amount_usd=float(row[\"AMOUNT COMMITTED\"]),\n",
    "        grant_description=row[\"PURPOSE\"],\n",
    "        program_of_funder=f\"{row['DIVISION']} > {row['TOPIC']}'\",\n",
    "        source=\"gatesfoundation.org\",\n",
    "        source_url=source_url,\n",
    "        raw_source_data=str(row),\n",
    "        _crawled_at=crawled_at,\n",
    "    )\n",
    "    awards.append(asdict(award))"
   ]
  },
  {
   "cell_type": "code",
   "execution_count": 6,
   "metadata": {},
   "outputs": [
    {
     "name": "stdout",
     "output_type": "stream",
     "text": [
      "All validations passed!\n"
     ]
    }
   ],
   "source": [
    "from oic_scrape.validation import validate_all\n",
    "\n",
    "# After creating awards list but before writing to file:\n",
    "try:\n",
    "    validate_all(awards)\n",
    "    print(\"All validations passed!\")\n",
    "\n",
    "    # Write to file\n",
    "    pl.DataFrame(awards).write_ndjson(OUTPUT_LOCATION)\n",
    "\n",
    "except Exception as e:\n",
    "    print(\"Validation failed:\")\n",
    "    print(str(e))"
   ]
  },
  {
   "cell_type": "code",
   "execution_count": 7,
   "metadata": {},
   "outputs": [],
   "source": [
    "# export_df = pl.DataFrame(awards)\n",
    "# export_df.write_ndjson(OUTPUT_LOCATION)"
   ]
  }
 ],
 "metadata": {
  "kernelspec": {
   "display_name": "oic-scrape-D2fotO-x-py3.11",
   "language": "python",
   "name": "python3"
  },
  "language_info": {
   "codemirror_mode": {
    "name": "ipython",
    "version": 3
   },
   "file_extension": ".py",
   "mimetype": "text/x-python",
   "name": "python",
   "nbconvert_exporter": "python",
   "pygments_lexer": "ipython3",
   "version": "3.11.9"
  }
 },
 "nbformat": 4,
 "nbformat_minor": 2
}
