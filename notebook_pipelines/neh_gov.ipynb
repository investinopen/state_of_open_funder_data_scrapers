{
 "cells": [
  {
   "cell_type": "markdown",
   "id": "ab6eee08-300d-4a56-b0d9-1240fbe16e61",
   "metadata": {},
   "source": [
    "# National Endowment for the Humanities\n",
    "\n",
    "Downloads data from NEH's open data portal and outputs into our format\n",
    "\n",
    "Base URL (from: https://apps.neh.gov/open/data/)"
   ]
  },
  {
   "cell_type": "code",
   "execution_count": 2,
   "id": "207cf01b-d387-4106-ac85-846ce6ac1c4b",
   "metadata": {},
   "outputs": [],
   "source": [
    "import requests\n",
    "import io\n",
    "import pandas as pd\n",
    "\n",
    "# from oic_scrape.items import GrantItem\n",
    "from collections import OrderedDict\n",
    "import datetime"
   ]
  },
  {
   "cell_type": "code",
   "execution_count": 3,
   "id": "d5dd7b89-d184-403f-bb07-d493783f8485",
   "metadata": {
    "tags": [
     "parameters"
    ]
   },
   "outputs": [],
   "source": [
    "# Notebook Parameters\n",
    "DECADES = \"2000, 2010, 2020\"\n",
    "OUTPUT_LOCATION = \"data/neh.gov_grants.jsonl\"\n",
    "OUTPUT_FORMAT = \"jsonl\""
   ]
  },
  {
   "cell_type": "code",
   "execution_count": 4,
   "id": "b03c9885-922c-4007-a6aa-77a580bc598c",
   "metadata": {},
   "outputs": [],
   "source": [
    "def validate_decades(decades):\n",
    "    \"\"\"\n",
    "    Validates a list of decades for NEH data file downloads.\n",
    "\n",
    "    Args:\n",
    "        decades (str): A string representing the decades to validate.\n",
    "                       It can be either a comma-separated list of decades or the string \"all\".\n",
    "\n",
    "    Returns:\n",
    "        list: A list of valid decades.\n",
    "\n",
    "    Raises:\n",
    "        ValueError: If the input decades are not valid.\n",
    "\n",
    "    Example:\n",
    "        >>> validate_decades(\"1960, 1970, 1980\")\n",
    "        ['1960', '1970', '1980']\n",
    "    \"\"\"\n",
    "    current_year = datetime.datetime.now().year\n",
    "    current_decade = current_year - (current_year % 10)\n",
    "    valid_decades = [str(year) for year in range(1960, current_decade + 1, 10)]\n",
    "\n",
    "    if decades.lower() == \"all\":\n",
    "        return valid_decades\n",
    "\n",
    "    decades_list = decades.split(\",\")\n",
    "    sanitized_decades = []\n",
    "\n",
    "    for decade in decades_list:\n",
    "        decade = decade.strip()\n",
    "        if decade not in valid_decades:\n",
    "            raise ValueError(\n",
    "                f\"Decade should be between 1960 and {current_decade} (the start of the decade for {current_year}).\"\n",
    "            )\n",
    "        sanitized_decades.append(decade)\n",
    "\n",
    "    return sanitized_decades\n",
    "\n",
    "\n",
    "def validate_output_format(format):\n",
    "    \"\"\"\n",
    "    Validates the output file format.\n",
    "\n",
    "    Args:\n",
    "        format (str): The output format to be validated.\n",
    "\n",
    "    Returns:\n",
    "        bool: True if the format is valid (json, jsonl, or jsonlines), False otherwise.\n",
    "    \"\"\"\n",
    "    if (\n",
    "        format.lower() == \"json\"\n",
    "        or format.lower() == \"jsonl\"\n",
    "        or format.lower() == \"jsonlines\"\n",
    "    ):\n",
    "        return True\n",
    "    else:\n",
    "        return False\n",
    "\n",
    "\n",
    "if validate_output_format(OUTPUT_FORMAT):\n",
    "    if OUTPUT_FORMAT.lower() == \"jsonl\" or OUTPUT_FORMAT.lower() == \"jsonlines\":\n",
    "        output_format_lines = True\n",
    "    else:\n",
    "        output_format_lines = False\n",
    "else:\n",
    "    raise ValueError(\"Output format should be either 'json' or 'jsonl'/'jsonlines'.\")"
   ]
  },
  {
   "cell_type": "code",
   "execution_count": 5,
   "id": "58086692",
   "metadata": {},
   "outputs": [],
   "source": [
    "FUNDER_NAME = \"National Endowment for the Humanities\"\n",
    "FUNDER_ROR_ID = \"https://ror.org/02vdm1p28\""
   ]
  },
  {
   "cell_type": "code",
   "execution_count": 6,
   "id": "d9c9e52d-6bb9-46dc-8908-0cbd60fdc156",
   "metadata": {},
   "outputs": [],
   "source": [
    "baseurl = \"https://securegrants.neh.gov/open/data/NEH_Grants{}s.csv\""
   ]
  },
  {
   "cell_type": "code",
   "execution_count": 7,
   "id": "bc66fc0b",
   "metadata": {},
   "outputs": [
    {
     "name": "stderr",
     "output_type": "stream",
     "text": [
      "/home/driordan/Code/oic_scrape/.venv/lib/python3.11/site-packages/urllib3/connectionpool.py:1103: InsecureRequestWarning: Unverified HTTPS request is being made to host 'securegrants.neh.gov'. Adding certificate verification is strongly advised. See: https://urllib3.readthedocs.io/en/latest/advanced-usage.html#tls-warnings\n",
      "  warnings.warn(\n",
      "/home/driordan/Code/oic_scrape/.venv/lib/python3.11/site-packages/urllib3/connectionpool.py:1103: InsecureRequestWarning: Unverified HTTPS request is being made to host 'apps.neh.gov'. Adding certificate verification is strongly advised. See: https://urllib3.readthedocs.io/en/latest/advanced-usage.html#tls-warnings\n",
      "  warnings.warn(\n",
      "/home/driordan/Code/oic_scrape/.venv/lib/python3.11/site-packages/urllib3/connectionpool.py:1103: InsecureRequestWarning: Unverified HTTPS request is being made to host 'securegrants.neh.gov'. Adding certificate verification is strongly advised. See: https://urllib3.readthedocs.io/en/latest/advanced-usage.html#tls-warnings\n",
      "  warnings.warn(\n",
      "/home/driordan/Code/oic_scrape/.venv/lib/python3.11/site-packages/urllib3/connectionpool.py:1103: InsecureRequestWarning: Unverified HTTPS request is being made to host 'apps.neh.gov'. Adding certificate verification is strongly advised. See: https://urllib3.readthedocs.io/en/latest/advanced-usage.html#tls-warnings\n",
      "  warnings.warn(\n",
      "/home/driordan/Code/oic_scrape/.venv/lib/python3.11/site-packages/urllib3/connectionpool.py:1103: InsecureRequestWarning: Unverified HTTPS request is being made to host 'securegrants.neh.gov'. Adding certificate verification is strongly advised. See: https://urllib3.readthedocs.io/en/latest/advanced-usage.html#tls-warnings\n",
      "  warnings.warn(\n",
      "/home/driordan/Code/oic_scrape/.venv/lib/python3.11/site-packages/urllib3/connectionpool.py:1103: InsecureRequestWarning: Unverified HTTPS request is being made to host 'apps.neh.gov'. Adding certificate verification is strongly advised. See: https://urllib3.readthedocs.io/en/latest/advanced-usage.html#tls-warnings\n",
      "  warnings.warn(\n"
     ]
    }
   ],
   "source": [
    "dfs = []\n",
    "for decade in validate_decades(DECADES):\n",
    "    url = baseurl.format(decade)\n",
    "    r = requests.get(url, verify=False)\n",
    "    df = pd.read_csv(io.StringIO(r.text))\n",
    "    timestamp_str = datetime.datetime.utcnow().strftime(\"%Y-%m-%d %H:%M:%S\")\n",
    "    df[\"_crawled_at\"] = timestamp_str\n",
    "    dfs.append(df)\n",
    "all_grants = pd.concat(dfs)"
   ]
  },
  {
   "cell_type": "code",
   "execution_count": null,
   "id": "cb2e73e4",
   "metadata": {},
   "outputs": [
    {
     "name": "stderr",
     "output_type": "stream",
     "text": [
      "/tmp/ipykernel_1555247/1044349467.py:2: UserWarning: Could not infer format, so each element will be parsed individually, falling back to `dateutil`. To ensure parsing is consistent and as-expected, please specify a format.\n",
      "  all_grants['BeginGrant'] = pd.to_datetime(all_grants['BeginGrant'])\n",
      "/tmp/ipykernel_1555247/1044349467.py:3: UserWarning: Could not infer format, so each element will be parsed individually, falling back to `dateutil`. To ensure parsing is consistent and as-expected, please specify a format.\n",
      "  all_grants['EndGrant'] = pd.to_datetime(all_grants['EndGrant'])\n"
     ]
    }
   ],
   "source": [
    "# Format times\n",
    "all_grants[\"BeginGrant\"] = pd.to_datetime(\n",
    "    all_grants[\"BeginGrant\"], format=\"%m/%d/%Y %I:%M:%S %p\"\n",
    ")\n",
    "all_grants[\"EndGrant\"] = pd.to_datetime(\n",
    "    all_grants[\"EndGrant\"], format=\"%m/%d/%Y %I:%M:%S %p\"\n",
    ")"
   ]
  },
  {
   "cell_type": "code",
   "execution_count": null,
   "id": "f026e161",
   "metadata": {},
   "outputs": [],
   "source": [
    "# Format times\n",
    "all_grants[\"BeginGrant\"] = pd.to_datetime(\n",
    "    all_grants[\"BeginGrant\"], format=\"%m/%d/%Y %I:%M:%S %p\"\n",
    ")\n",
    "all_grants[\"EndGrant\"] = pd.to_datetime(\n",
    "    all_grants[\"EndGrant\"], format=\"%m/%d/%Y %I:%M:%S %p\"\n",
    ")"
   ]
  },
  {
   "cell_type": "code",
   "execution_count": null,
   "id": "da0d4c69",
   "metadata": {},
   "outputs": [],
   "source": [
    "def month_diff(end_date: pd.Timestamp, start_date: pd.Timestamp) -> int:\n",
    "    \"\"\"\n",
    "    Calculate the difference in months between two Pandas timestamps.\n",
    "\n",
    "    Parameters:\n",
    "    end_date (pandas.Timestamp): The first timestamp.\n",
    "    start_date (pandas.Timestamp): The second timestamp.\n",
    "\n",
    "    Returns:\n",
    "    int: The difference in months between the two timestamps.\n",
    "    \"\"\"\n",
    "    if (\n",
    "        start_date.day == 1\n",
    "        and end_date.day == pd.Timestamp(end_date.year, end_date.month, 1).days_in_month\n",
    "    ):\n",
    "        return (\n",
    "            12 * (end_date.year - start_date.year)\n",
    "            + (end_date.month - start_date.month)\n",
    "            + 1\n",
    "        )\n",
    "    else:\n",
    "        return 12 * (end_date.year - start_date.year) + (\n",
    "            end_date.month - start_date.month\n",
    "        )"
   ]
  },
  {
   "cell_type": "code",
   "execution_count": null,
   "id": "c918c066-5d41-493e-8a80-da28a71d32ab",
   "metadata": {},
   "outputs": [],
   "source": [
    "ioi_grants = []\n",
    "for ix, grant in all_grants.iterrows():\n",
    "    g = OrderedDict()\n",
    "\n",
    "    g[\"grant_id\"] = f\"neh::{grant['AppNumber']}\"\n",
    "    g[\"funder_name\"] = FUNDER_NAME\n",
    "    g[\"funder_ror_id\"] = FUNDER_ROR_ID\n",
    "    g[\"recipient_org_name\"] = grant[\"Institution\"]\n",
    "    location = \"\"\n",
    "    if grant[\"InstCity\"]:\n",
    "        location += grant[\"InstCity\"]\n",
    "    if grant[\"InstState\"]:\n",
    "        if location:\n",
    "            location += \", \"\n",
    "        location += grant[\"InstState\"]\n",
    "    if grant[\"InstPostalCode\"]:\n",
    "        if location:\n",
    "            location += \", \"\n",
    "        location += str(grant[\"InstPostalCode\"])  # Convert float to string\n",
    "    if grant[\"InstCountry\"]:\n",
    "        if location:\n",
    "            location += \", \"\n",
    "        location += grant[\"InstCountry\"]\n",
    "    g[\"recipient_location\"] = location\n",
    "    g[\"pi_name\"] = grant[\"Participants\"]\n",
    "\n",
    "    # date fields\n",
    "    grant_start_date = grant[\"BeginGrant\"]\n",
    "    grant_end_date = grant[\"EndGrant\"]\n",
    "    grant_duration = month_diff(grant_end_date, grant_start_date)\n",
    "    grant_year = grant_start_date.year\n",
    "\n",
    "    g[\"grant_year\"] = grant_year\n",
    "    g[\"grant_duration\"] = grant_duration\n",
    "    g[\"grant_start_date\"] = grant_start_date.strftime(\"%Y-%m-%d\")\n",
    "    g[\"grant_end_date\"] = grant_end_date.strftime(\"%Y-%m-%d\")\n",
    "\n",
    "    g[\"award_amount\"] = grant[\"ApprovedOutright\"]\n",
    "    g[\"award_currency\"] = \"USD\"\n",
    "    g[\"award_amount_usd\"] = grant[\"ApprovedOutright\"]\n",
    "    g[\"source\"] = \"https://apps.neh.gov/open/data/\"\n",
    "    g[\"grant_description\"] = f\"{grant['ProjectTitle']} > {grant['ProjectDesc']}\"\n",
    "    g[\"program_of_funder\"] = f\"{grant['Program']} > {grant['Division']}\"\n",
    "    g[\"_crawled_at\"] = grant[\"_crawled_at\"]\n",
    "    del grant[\"_crawled_at\"]\n",
    "\n",
    "    g[\"raw_source_data\"] = grant\n",
    "    ioi_grants.append(g)"
   ]
  },
  {
   "cell_type": "code",
   "execution_count": null,
   "id": "66f5c977",
   "metadata": {},
   "outputs": [],
   "source": [
    "grants_df = pd.DataFrame(ioi_grants)"
   ]
  },
  {
   "cell_type": "code",
   "execution_count": null,
   "id": "fc63872e",
   "metadata": {},
   "outputs": [],
   "source": [
    "grants_df.to_json(OUTPUT_LOCATION, orient=\"records\", lines=output_format_lines)"
   ]
  },
  {
   "cell_type": "code",
   "execution_count": null,
   "id": "09473326",
   "metadata": {},
   "outputs": [],
   "source": []
  }
 ],
 "metadata": {
  "kernelspec": {
   "display_name": "Python 3 (ipykernel)",
   "language": "python",
   "name": "python3"
  },
  "language_info": {
   "codemirror_mode": {
    "name": "ipython",
    "version": 3
   },
   "file_extension": ".py",
   "mimetype": "text/x-python",
   "name": "python",
   "nbconvert_exporter": "python",
   "pygments_lexer": "ipython3",
   "version": "3.11.9"
  }
 },
 "nbformat": 4,
 "nbformat_minor": 5
}
