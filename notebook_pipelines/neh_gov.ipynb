{
 "cells": [
  {
   "cell_type": "markdown",
   "id": "ab6eee08-300d-4a56-b0d9-1240fbe16e61",
   "metadata": {},
   "source": [
    "# National Endowment for the Humanities\n",
    "\n",
    "Downloads data from NEH's open data portal and outputs into our format\n",
    "\n",
    "Base URL (from: https://apps.neh.gov/open/data/)"
   ]
  },
  {
   "cell_type": "code",
   "execution_count": 11,
   "id": "207cf01b-d387-4106-ac85-846ce6ac1c4b",
   "metadata": {},
   "outputs": [],
   "source": [
    "import requests\n",
    "import io\n",
    "import pandas as pd\n",
    "\n",
    "from oic_scrape.validation import validate_all\n",
    "from oic_scrape.items import AwardItem\n",
    "from attrs import asdict\n",
    "import datetime"
   ]
  },
  {
   "cell_type": "code",
   "execution_count": 12,
   "id": "d5dd7b89-d184-403f-bb07-d493783f8485",
   "metadata": {
    "tags": [
     "parameters"
    ]
   },
   "outputs": [],
   "source": [
    "# Notebook Parameters\n",
    "DECADES = \"2000, 2010, 2020\"\n",
    "OUTPUT_LOCATION = \"data/neh.gov_grants.jsonl\"\n",
    "OUTPUT_FORMAT = \"jsonl\""
   ]
  },
  {
   "cell_type": "code",
   "execution_count": 13,
   "id": "b03c9885-922c-4007-a6aa-77a580bc598c",
   "metadata": {},
   "outputs": [],
   "source": [
    "def validate_decades(decades):\n",
    "    \"\"\"\n",
    "    Validates a list of decades for NEH data file downloads.\n",
    "\n",
    "    Args:\n",
    "        decades (str): A string representing the decades to validate.\n",
    "                       It can be either a comma-separated list of decades or the string \"all\".\n",
    "\n",
    "    Returns:\n",
    "        list: A list of valid decades.\n",
    "\n",
    "    Raises:\n",
    "        ValueError: If the input decades are not valid.\n",
    "\n",
    "    Example:\n",
    "        >>> validate_decades(\"1960, 1970, 1980\")\n",
    "        ['1960', '1970', '1980']\n",
    "    \"\"\"\n",
    "    current_year = datetime.datetime.now().year\n",
    "    current_decade = current_year - (current_year % 10)\n",
    "    valid_decades = [str(year) for year in range(1960, current_decade + 1, 10)]\n",
    "\n",
    "    if decades.lower() == \"all\":\n",
    "        return valid_decades\n",
    "\n",
    "    decades_list = decades.split(\",\")\n",
    "    sanitized_decades = []\n",
    "\n",
    "    for decade in decades_list:\n",
    "        decade = decade.strip()\n",
    "        if decade not in valid_decades:\n",
    "            raise ValueError(\n",
    "                f\"Decade should be between 1960 and {current_decade} (the start of the decade for {current_year}).\"\n",
    "            )\n",
    "        sanitized_decades.append(decade)\n",
    "\n",
    "    return sanitized_decades\n",
    "\n",
    "\n",
    "def validate_output_format(format):\n",
    "    \"\"\"\n",
    "    Validates the output file format.\n",
    "\n",
    "    Args:\n",
    "        format (str): The output format to be validated.\n",
    "\n",
    "    Returns:\n",
    "        bool: True if the format is valid (json, jsonl, or jsonlines), False otherwise.\n",
    "    \"\"\"\n",
    "    if (\n",
    "        format.lower() == \"json\"\n",
    "        or format.lower() == \"jsonl\"\n",
    "        or format.lower() == \"jsonlines\"\n",
    "    ):\n",
    "        return True\n",
    "    else:\n",
    "        return False\n",
    "\n",
    "\n",
    "if validate_output_format(OUTPUT_FORMAT):\n",
    "    if OUTPUT_FORMAT.lower() == \"jsonl\" or OUTPUT_FORMAT.lower() == \"jsonlines\":\n",
    "        output_format_lines = True\n",
    "    else:\n",
    "        output_format_lines = False\n",
    "else:\n",
    "    raise ValueError(\"Output format should be either 'json' or 'jsonl'/'jsonlines'.\")"
   ]
  },
  {
   "cell_type": "code",
   "execution_count": 14,
   "id": "58086692",
   "metadata": {},
   "outputs": [],
   "source": [
    "FUNDER_NAME = \"National Endowment for the Humanities\"\n",
    "FUNDER_ROR_ID = \"https://ror.org/02vdm1p28\""
   ]
  },
  {
   "cell_type": "code",
   "execution_count": 15,
   "id": "d9c9e52d-6bb9-46dc-8908-0cbd60fdc156",
   "metadata": {},
   "outputs": [],
   "source": [
    "baseurl = \"https://securegrants.neh.gov/open/data/NEH_Grants{}s.csv\""
   ]
  },
  {
   "cell_type": "code",
   "execution_count": 16,
   "id": "bc66fc0b",
   "metadata": {},
   "outputs": [
    {
     "name": "stderr",
     "output_type": "stream",
     "text": [
      "/home/driordan/Code/oic_scrape/.venv/lib/python3.11/site-packages/urllib3/connectionpool.py:1099: InsecureRequestWarning: Unverified HTTPS request is being made to host 'securegrants.neh.gov'. Adding certificate verification is strongly advised. See: https://urllib3.readthedocs.io/en/latest/advanced-usage.html#tls-warnings\n",
      "  warnings.warn(\n",
      "/home/driordan/Code/oic_scrape/.venv/lib/python3.11/site-packages/urllib3/connectionpool.py:1099: InsecureRequestWarning: Unverified HTTPS request is being made to host 'apps.neh.gov'. Adding certificate verification is strongly advised. See: https://urllib3.readthedocs.io/en/latest/advanced-usage.html#tls-warnings\n",
      "  warnings.warn(\n",
      "/home/driordan/Code/oic_scrape/.venv/lib/python3.11/site-packages/urllib3/connectionpool.py:1099: InsecureRequestWarning: Unverified HTTPS request is being made to host 'securegrants.neh.gov'. Adding certificate verification is strongly advised. See: https://urllib3.readthedocs.io/en/latest/advanced-usage.html#tls-warnings\n",
      "  warnings.warn(\n",
      "/home/driordan/Code/oic_scrape/.venv/lib/python3.11/site-packages/urllib3/connectionpool.py:1099: InsecureRequestWarning: Unverified HTTPS request is being made to host 'apps.neh.gov'. Adding certificate verification is strongly advised. See: https://urllib3.readthedocs.io/en/latest/advanced-usage.html#tls-warnings\n",
      "  warnings.warn(\n",
      "/home/driordan/Code/oic_scrape/.venv/lib/python3.11/site-packages/urllib3/connectionpool.py:1099: InsecureRequestWarning: Unverified HTTPS request is being made to host 'securegrants.neh.gov'. Adding certificate verification is strongly advised. See: https://urllib3.readthedocs.io/en/latest/advanced-usage.html#tls-warnings\n",
      "  warnings.warn(\n",
      "/home/driordan/Code/oic_scrape/.venv/lib/python3.11/site-packages/urllib3/connectionpool.py:1099: InsecureRequestWarning: Unverified HTTPS request is being made to host 'apps.neh.gov'. Adding certificate verification is strongly advised. See: https://urllib3.readthedocs.io/en/latest/advanced-usage.html#tls-warnings\n",
      "  warnings.warn(\n"
     ]
    }
   ],
   "source": [
    "dfs = []\n",
    "for decade in validate_decades(DECADES):\n",
    "    url = baseurl.format(decade)\n",
    "    r = requests.get(url, verify=False)\n",
    "    df = pd.read_csv(io.StringIO(r.text))\n",
    "    timestamp_str = datetime.datetime.utcnow().strftime(\"%Y-%m-%d %H:%M:%S\")\n",
    "    df[\"_crawled_at\"] = timestamp_str\n",
    "    dfs.append(df)\n",
    "all_grants = pd.concat(dfs)"
   ]
  },
  {
   "cell_type": "code",
   "execution_count": 17,
   "id": "cb2e73e4",
   "metadata": {},
   "outputs": [],
   "source": [
    "# Format times\n",
    "all_grants[\"BeginGrant\"] = pd.to_datetime(\n",
    "    all_grants[\"BeginGrant\"], format=\"%m/%d/%Y %I:%M:%S %p\"\n",
    ")\n",
    "all_grants[\"EndGrant\"] = pd.to_datetime(\n",
    "    all_grants[\"EndGrant\"], format=\"%m/%d/%Y %I:%M:%S %p\"\n",
    ")"
   ]
  },
  {
   "cell_type": "code",
   "execution_count": 18,
   "id": "f026e161",
   "metadata": {},
   "outputs": [],
   "source": [
    "# Format times\n",
    "all_grants[\"BeginGrant\"] = pd.to_datetime(\n",
    "    all_grants[\"BeginGrant\"], format=\"%m/%d/%Y %I:%M:%S %p\"\n",
    ")\n",
    "all_grants[\"EndGrant\"] = pd.to_datetime(\n",
    "    all_grants[\"EndGrant\"], format=\"%m/%d/%Y %I:%M:%S %p\"\n",
    ")"
   ]
  },
  {
   "cell_type": "code",
   "execution_count": 19,
   "id": "da0d4c69",
   "metadata": {},
   "outputs": [],
   "source": [
    "def month_diff(end_date: pd.Timestamp, start_date: pd.Timestamp) -> int:\n",
    "    \"\"\"\n",
    "    Calculate the difference in months between two Pandas timestamps.\n",
    "\n",
    "    Parameters:\n",
    "    end_date (pandas.Timestamp): The first timestamp.\n",
    "    start_date (pandas.Timestamp): The second timestamp.\n",
    "\n",
    "    Returns:\n",
    "    int: The difference in months between the two timestamps.\n",
    "    \"\"\"\n",
    "    if (\n",
    "        start_date.day == 1\n",
    "        and end_date.day == pd.Timestamp(end_date.year, end_date.month, 1).days_in_month\n",
    "    ):\n",
    "        return (\n",
    "            12 * (end_date.year - start_date.year)\n",
    "            + (end_date.month - start_date.month)\n",
    "            + 1\n",
    "        )\n",
    "    else:\n",
    "        return 12 * (end_date.year - start_date.year) + (\n",
    "            end_date.month - start_date.month\n",
    "        )"
   ]
  },
  {
   "cell_type": "code",
   "execution_count": 20,
   "id": "c918c066-5d41-493e-8a80-da28a71d32ab",
   "metadata": {},
   "outputs": [
    {
     "name": "stdout",
     "output_type": "stream",
     "text": [
      "Validating 21422 awards...\n",
      "All validations passed!\n",
      "Successfully wrote 21422 awards to data/neh.gov_grants.jsonl\n"
     ]
    }
   ],
   "source": [
    "ioi_grants = []\n",
    "for ix, grant in all_grants.iterrows():\n",
    "    try:\n",
    "        # Handle null values for string fields\n",
    "        pi_name = grant[\"Participants\"] if pd.notna(grant[\"Participants\"]) else None\n",
    "        project_title = grant[\"ProjectTitle\"] if pd.notna(grant[\"ProjectTitle\"]) else \"\"\n",
    "        project_desc = grant[\"ProjectDesc\"] if pd.notna(grant[\"ProjectDesc\"]) else \"\"\n",
    "        program = grant[\"Program\"] if pd.notna(grant[\"Program\"]) else \"\"\n",
    "        division = grant[\"Division\"] if pd.notna(grant[\"Division\"]) else \"\"\n",
    "\n",
    "        # Get start and end dates\n",
    "        grant_start_date = grant[\"BeginGrant\"]\n",
    "        grant_end_date = grant[\"EndGrant\"]\n",
    "\n",
    "        # Create AwardItem instance\n",
    "        award = AwardItem(\n",
    "            _crawled_at=datetime.datetime.strptime(\n",
    "                grant[\"_crawled_at\"], \"%Y-%m-%d %H:%M:%S\"\n",
    "            ),\n",
    "            source=\"https://apps.neh.gov/open/data/\",\n",
    "            grant_id=f\"neh::{grant['AppNumber']}\",\n",
    "            funder_org_name=FUNDER_NAME,\n",
    "            funder_org_ror_id=FUNDER_ROR_ID,\n",
    "            recipient_org_name=grant[\"Institution\"],\n",
    "            recipient_org_location=\", \".join(\n",
    "                filter(\n",
    "                    None,\n",
    "                    [\n",
    "                        grant[\"InstCity\"],\n",
    "                        grant[\"InstState\"],\n",
    "                        str(grant[\"InstPostalCode\"])\n",
    "                        if pd.notna(grant[\"InstPostalCode\"])\n",
    "                        else None,\n",
    "                        grant[\"InstCountry\"],\n",
    "                    ],\n",
    "                )\n",
    "            ),\n",
    "            pi_name=pi_name,  # Now using handled null value\n",
    "            grant_year=int(grant_start_date.year),\n",
    "            grant_duration=f\"{month_diff(grant_end_date, grant_start_date)} months\",\n",
    "            grant_start_date=grant_start_date.date(),\n",
    "            grant_end_date=grant_end_date.date(),\n",
    "            award_amount=float(grant[\"ApprovedOutright\"]),\n",
    "            award_currency=\"USD\",\n",
    "            award_amount_usd=float(grant[\"ApprovedOutright\"]),\n",
    "            grant_description=f\"{project_title} > {project_desc}\",\n",
    "            program_of_funder=f\"{program} > {division}\",\n",
    "            raw_source_data=str(grant.to_dict()),\n",
    "            _award_schema_version=\"0.1.1\",\n",
    "        )\n",
    "        ioi_grants.append(asdict(award))\n",
    "    except Exception as e:\n",
    "        print(f\"Error processing grant {ix}: {str(e)}\")\n",
    "\n",
    "\n",
    "# Validate all awards before writing\n",
    "try:\n",
    "    print(f\"Validating {len(ioi_grants)} awards...\")\n",
    "    validate_all(ioi_grants)\n",
    "    print(\"All validations passed!\")\n",
    "\n",
    "    # Write to file\n",
    "    grants_df = pd.DataFrame(ioi_grants)\n",
    "    grants_df.to_json(OUTPUT_LOCATION, orient=\"records\", lines=output_format_lines)\n",
    "    print(f\"Successfully wrote {len(ioi_grants)} awards to {OUTPUT_LOCATION}\")\n",
    "\n",
    "except Exception as e:\n",
    "    print(\"Validation failed:\")\n",
    "    print(str(e))"
   ]
  },
  {
   "cell_type": "code",
   "execution_count": null,
   "id": "09473326",
   "metadata": {},
   "outputs": [],
   "source": []
  }
 ],
 "metadata": {
  "kernelspec": {
   "display_name": "Python 3 (ipykernel)",
   "language": "python",
   "name": "python3"
  },
  "language_info": {
   "codemirror_mode": {
    "name": "ipython",
    "version": 3
   },
   "file_extension": ".py",
   "mimetype": "text/x-python",
   "name": "python",
   "nbconvert_exporter": "python",
   "pygments_lexer": "ipython3",
   "version": "3.11.9"
  }
 },
 "nbformat": 4,
 "nbformat_minor": 5
}
