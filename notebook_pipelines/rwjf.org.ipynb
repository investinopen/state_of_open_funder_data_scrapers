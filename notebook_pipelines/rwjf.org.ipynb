{
 "cells": [
  {
   "cell_type": "code",
   "execution_count": null,
   "metadata": {},
   "outputs": [],
   "source": []
  },
  {
   "cell_type": "markdown",
   "metadata": {},
   "source": [
    "# Robert Wood Johnson Foundation\n",
    "\n",
    "RWJF builds their [Grants Directory](https://www.rwjf.org/en/grants/awarded-grants.html?s=1) via a bunch of JSON calls. We'll just hit up the JSON API."
   ]
  },
  {
   "cell_type": "code",
   "execution_count": null,
   "metadata": {},
   "outputs": [],
   "source": [
    "import polars as pl\n",
    "import requests\n",
    "from requests.adapters import HTTPAdapter\n",
    "from urllib3.util.retry import Retry\n",
    "from requests_cache import CachedSession\n",
    "from typing import List, Dict, Any\n",
    "from datetime import datetime\n",
    "from tqdm.notebook import tqdm\n",
    "from oic_scrape.items import AwardParticipant, AwardItem\n",
    "from attrs import asdict"
   ]
  },
  {
   "cell_type": "code",
   "execution_count": null,
   "metadata": {
    "tags": [
     "parameters"
    ]
   },
   "outputs": [],
   "source": [
    "START_YEAR = 1995\n",
    "OUTPUT_LOCATION = \"data/rwjf.org.jsonl\"\n",
    "USE_CACHE = True"
   ]
  },
  {
   "cell_type": "code",
   "execution_count": null,
   "metadata": {},
   "outputs": [],
   "source": [
    "FUNDER_ORG_NAME = \"Robert Wood Johnson Foundation\"\n",
    "FUNDER_ORG_ROR_ID = \"https://ror.org/02ymmdj85\""
   ]
  },
  {
   "cell_type": "code",
   "execution_count": null,
   "metadata": {},
   "outputs": [],
   "source": [
    "## HTTP Configuration\n",
    "\n",
    "# Cache for development use only\n",
    "if USE_CACHE:\n",
    "    session = CachedSession(\n",
    "        \"cache.sqlite\",\n",
    "        backend=\"sqlite\",\n",
    "        allowable_methods=(\"GET\", \"POST\"),\n",
    "        allowable_codes=(200, 404),\n",
    "    )\n",
    "else:\n",
    "    session = requests.Session()\n",
    "retry = Retry(connect=5, backoff_factor=1.5)\n",
    "adapter = HTTPAdapter(max_retries=retry)\n",
    "session.mount(\"http://\", adapter)\n",
    "session.mount(\"https://\", adapter)"
   ]
  },
  {
   "cell_type": "code",
   "execution_count": null,
   "metadata": {},
   "outputs": [],
   "source": [
    "base_json = \"https://www.rwjf.org/content/rwjf-web/us/en/_jcr_content.grants.json?k=&s=1&resultsPerPage=100&start=1972&end=2024&amt=-1&active=true&closed=true&sortBy=year&ascending=false&m=\"\n",
    "\n",
    "r = session.get(base_json)"
   ]
  },
  {
   "cell_type": "code",
   "execution_count": null,
   "metadata": {},
   "outputs": [],
   "source": [
    "def get_grants(\n",
    "    start_year: int = 2000, end_year: int = datetime.now().year\n",
    ") -> List[Dict[str, Any]]:\n",
    "    \"\"\"Downloads grants from Robert Wood Johnson Foundation\n",
    "\n",
    "    Args:\n",
    "        start_year (int, optional): Start year for grants. Defaults to 2000. Minimum is 1974.\n",
    "        end_year (int, optional): End year for grants. Defaults to current year.\n",
    "    \"\"\"\n",
    "    if start_year < 1974:\n",
    "        start_year = 1974\n",
    "\n",
    "    grants = []\n",
    "    page = 1\n",
    "    count = 0\n",
    "    total = None\n",
    "    total_pages = None\n",
    "    pbar = tqdm(total=total, desc=\"Downloading RWJF Grants\")\n",
    "\n",
    "    while total_pages is None or page < total_pages + 1:\n",
    "        url = f\"https://www.rwjf.org/content/rwjf-web/us/en/_jcr_content.grants.json?k=&s={page}&resultsPerPage=100&start={start_year}&end={end_year}&amt=-1&active=true&closed=true&sortBy=year&ascending=true&m=\"\n",
    "        r = session.get(url)\n",
    "        r.raise_for_status()\n",
    "        data = r.json()\n",
    "        grants.extend(data[\"results\"])\n",
    "        if total_pages is None:\n",
    "            total_pages = data[\"totalPages\"]\n",
    "            pbar.total = data[\"totalResults\"]\n",
    "            pbar.refresh()\n",
    "        pbar.update(len(data[\"results\"]))\n",
    "        page += 1\n",
    "\n",
    "    pbar.close()\n",
    "\n",
    "    return grants\n",
    "\n",
    "\n",
    "grants = get_grants(start_year=START_YEAR)\n",
    "crawl_ts = datetime.now()"
   ]
  },
  {
   "cell_type": "code",
   "execution_count": null,
   "metadata": {},
   "outputs": [],
   "source": [
    "awards = []\n",
    "\n",
    "for grant in grants:\n",
    "    try:\n",
    "        # Create list of AwardParticipant objects\n",
    "        named_participants = []\n",
    "        for contact in grant.get(\"contact\", []):\n",
    "            if contact.get(\"name\"):  # Only create participant if name exists\n",
    "                person = AwardParticipant(\n",
    "                    full_name=contact[\"name\"],\n",
    "                    is_pi=contact.get(\"role\") == \"Project Director\",\n",
    "                    grant_role=contact.get(\"role\"),\n",
    "                    identifiers={\"email\": contact[\"email\"]}\n",
    "                    if contact.get(\"email\")\n",
    "                    else None,\n",
    "                )\n",
    "                named_participants.append(person)\n",
    "\n",
    "        # Handle empty participants list\n",
    "        if not named_participants:\n",
    "            named_participants = None\n",
    "            pi_string = None\n",
    "        else:\n",
    "            # Get PI names for pi_string\n",
    "            pi_list = [p.full_name for p in named_participants if p.is_pi]\n",
    "            pi_string = \", \".join(pi_list) if pi_list else None\n",
    "\n",
    "        # Create AwardItem\n",
    "        award = AwardItem(\n",
    "            source=\"rwjf.org\",\n",
    "            grant_id=f\"rwjf::{grant['grantNumber']}\",\n",
    "            funder_org_name=FUNDER_ORG_NAME,\n",
    "            funder_org_ror_id=FUNDER_ORG_ROR_ID,\n",
    "            recipient_org_name=grant[\"granteeInfo\"][\"orgName\"],\n",
    "            recipient_org_location=\", \".join(\n",
    "                filter(\n",
    "                    None,\n",
    "                    [\n",
    "                        grant[\"granteeInfo\"].get(\"city\", \"\"),\n",
    "                        grant[\"granteeInfo\"].get(\"state\", \"\"),\n",
    "                        grant[\"granteeInfo\"].get(\"zip\", \"\"),\n",
    "                        grant[\"granteeInfo\"].get(\"country\", \"\"),\n",
    "                    ],\n",
    "                )\n",
    "            ),\n",
    "            pi_name=pi_string,\n",
    "            named_participants=named_participants,  # Now passing list of AwardParticipant objects\n",
    "            grant_year=datetime.fromtimestamp(grant[\"dateAwarded\"] / 1000).year,\n",
    "            grant_start_date=datetime.fromtimestamp(grant[\"startDate\"] / 1000).date(),\n",
    "            grant_end_date=datetime.fromtimestamp(grant[\"endDate\"] / 1000).date(),\n",
    "            grant_duration=f\"{(datetime.fromtimestamp(grant['endDate']/1000).date() - datetime.fromtimestamp(grant['startDate']/1000).date()).days} days\",\n",
    "            award_amount=float(grant[\"amountAwarded\"]),\n",
    "            award_currency=\"USD\",\n",
    "            award_amount_usd=float(grant[\"amountAwarded\"]),\n",
    "            grant_title=grant[\"title\"],\n",
    "            grant_description=grant[\"description\"],\n",
    "            program_of_funder=\" | \".join(grant[\"programs\"]),\n",
    "            _crawled_at=crawl_ts,\n",
    "            raw_source_data=str(grant),\n",
    "            _award_schema_version=\"0.1.1\",\n",
    "        )\n",
    "        awards.append(asdict(award))\n",
    "    except Exception as e:\n",
    "        print(f\"Error processing grant {grant.get('grantNumber', 'unknown')}: {str(e)}\")"
   ]
  },
  {
   "cell_type": "code",
   "execution_count": null,
   "metadata": {},
   "outputs": [],
   "source": [
    "pl.DataFrame(awards).write_ndjson(OUTPUT_LOCATION)"
   ]
  }
 ],
 "metadata": {
  "kernelspec": {
   "display_name": "oic-scrape-D2fotO-x-py3.11",
   "language": "python",
   "name": "python3"
  },
  "language_info": {
   "codemirror_mode": {
    "name": "ipython",
    "version": 3
   },
   "file_extension": ".py",
   "mimetype": "text/x-python",
   "name": "python",
   "nbconvert_exporter": "python",
   "pygments_lexer": "ipython3",
   "version": "3.11.7"
  }
 },
 "nbformat": 4,
 "nbformat_minor": 2
}
